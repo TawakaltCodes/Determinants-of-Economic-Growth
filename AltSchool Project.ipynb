{
 "cells": [
  {
   "cell_type": "code",
   "execution_count": 1,
   "id": "cf2434b1",
   "metadata": {
    "ExecuteTime": {
     "end_time": "2023-07-30T23:34:45.496114Z",
     "start_time": "2023-07-30T23:34:38.280050Z"
    }
   },
   "outputs": [],
   "source": [
    "#importing the necessary libraries for analysis and visualisation\n",
    "\n",
    "import pandas as pd\n",
    "import seaborn as sns\n",
    "import matplotlib.pyplot as plt\n",
    "import statsmodels.api as sm"
   ]
  },
  {
   "cell_type": "code",
   "execution_count": 2,
   "id": "4767e570",
   "metadata": {
    "ExecuteTime": {
     "end_time": "2023-07-30T23:34:45.540287Z",
     "start_time": "2023-07-30T23:34:45.498105Z"
    }
   },
   "outputs": [],
   "source": [
    "economic_growth_data = pd.read_csv('GrowthDJ.csv') #reading the dataset into a Dataframe"
   ]
  },
  {
   "cell_type": "code",
   "execution_count": 3,
   "id": "f7242bdd",
   "metadata": {
    "ExecuteTime": {
     "end_time": "2023-07-30T23:34:45.622206Z",
     "start_time": "2023-07-30T23:34:45.551649Z"
    }
   },
   "outputs": [
    {
     "data": {
      "text/html": [
       "<div>\n",
       "<style scoped>\n",
       "    .dataframe tbody tr th:only-of-type {\n",
       "        vertical-align: middle;\n",
       "    }\n",
       "\n",
       "    .dataframe tbody tr th {\n",
       "        vertical-align: top;\n",
       "    }\n",
       "\n",
       "    .dataframe thead th {\n",
       "        text-align: right;\n",
       "    }\n",
       "</style>\n",
       "<table border=\"1\" class=\"dataframe\">\n",
       "  <thead>\n",
       "    <tr style=\"text-align: right;\">\n",
       "      <th></th>\n",
       "      <th>Unnamed: 0</th>\n",
       "      <th>oil</th>\n",
       "      <th>inter</th>\n",
       "      <th>oecd</th>\n",
       "      <th>gdp60</th>\n",
       "      <th>gdp85</th>\n",
       "      <th>gdpgrowth</th>\n",
       "      <th>popgrowth</th>\n",
       "      <th>invest</th>\n",
       "      <th>school</th>\n",
       "      <th>literacy60</th>\n",
       "    </tr>\n",
       "  </thead>\n",
       "  <tbody>\n",
       "    <tr>\n",
       "      <th>0</th>\n",
       "      <td>1</td>\n",
       "      <td>no</td>\n",
       "      <td>yes</td>\n",
       "      <td>no</td>\n",
       "      <td>2485.0</td>\n",
       "      <td>4371.0</td>\n",
       "      <td>4.8</td>\n",
       "      <td>2.6</td>\n",
       "      <td>24.1</td>\n",
       "      <td>4.5</td>\n",
       "      <td>10.0</td>\n",
       "    </tr>\n",
       "    <tr>\n",
       "      <th>1</th>\n",
       "      <td>2</td>\n",
       "      <td>no</td>\n",
       "      <td>no</td>\n",
       "      <td>no</td>\n",
       "      <td>1588.0</td>\n",
       "      <td>1171.0</td>\n",
       "      <td>0.8</td>\n",
       "      <td>2.1</td>\n",
       "      <td>5.8</td>\n",
       "      <td>1.8</td>\n",
       "      <td>5.0</td>\n",
       "    </tr>\n",
       "    <tr>\n",
       "      <th>2</th>\n",
       "      <td>3</td>\n",
       "      <td>no</td>\n",
       "      <td>no</td>\n",
       "      <td>no</td>\n",
       "      <td>1116.0</td>\n",
       "      <td>1071.0</td>\n",
       "      <td>2.2</td>\n",
       "      <td>2.4</td>\n",
       "      <td>10.8</td>\n",
       "      <td>1.8</td>\n",
       "      <td>5.0</td>\n",
       "    </tr>\n",
       "    <tr>\n",
       "      <th>3</th>\n",
       "      <td>4</td>\n",
       "      <td>no</td>\n",
       "      <td>yes</td>\n",
       "      <td>no</td>\n",
       "      <td>959.0</td>\n",
       "      <td>3671.0</td>\n",
       "      <td>8.6</td>\n",
       "      <td>3.2</td>\n",
       "      <td>28.3</td>\n",
       "      <td>2.9</td>\n",
       "      <td>NaN</td>\n",
       "    </tr>\n",
       "    <tr>\n",
       "      <th>4</th>\n",
       "      <td>5</td>\n",
       "      <td>no</td>\n",
       "      <td>no</td>\n",
       "      <td>no</td>\n",
       "      <td>529.0</td>\n",
       "      <td>857.0</td>\n",
       "      <td>2.9</td>\n",
       "      <td>0.9</td>\n",
       "      <td>12.7</td>\n",
       "      <td>0.4</td>\n",
       "      <td>2.0</td>\n",
       "    </tr>\n",
       "  </tbody>\n",
       "</table>\n",
       "</div>"
      ],
      "text/plain": [
       "   Unnamed: 0 oil inter oecd   gdp60   gdp85  gdpgrowth  popgrowth  invest  \\\n",
       "0           1  no   yes   no  2485.0  4371.0        4.8        2.6    24.1   \n",
       "1           2  no    no   no  1588.0  1171.0        0.8        2.1     5.8   \n",
       "2           3  no    no   no  1116.0  1071.0        2.2        2.4    10.8   \n",
       "3           4  no   yes   no   959.0  3671.0        8.6        3.2    28.3   \n",
       "4           5  no    no   no   529.0   857.0        2.9        0.9    12.7   \n",
       "\n",
       "   school  literacy60  \n",
       "0     4.5        10.0  \n",
       "1     1.8         5.0  \n",
       "2     1.8         5.0  \n",
       "3     2.9         NaN  \n",
       "4     0.4         2.0  "
      ]
     },
     "execution_count": 3,
     "metadata": {},
     "output_type": "execute_result"
    }
   ],
   "source": [
    "economic_growth_data.head() #displaying first five rows"
   ]
  },
  {
   "cell_type": "code",
   "execution_count": 4,
   "id": "90987fe3",
   "metadata": {
    "ExecuteTime": {
     "end_time": "2023-07-30T23:34:45.653171Z",
     "start_time": "2023-07-30T23:34:45.629630Z"
    }
   },
   "outputs": [
    {
     "data": {
      "text/plain": [
       "(121, 11)"
      ]
     },
     "execution_count": 4,
     "metadata": {},
     "output_type": "execute_result"
    }
   ],
   "source": [
    "economic_growth_data.shape #display the number of rows and columns"
   ]
  },
  {
   "cell_type": "code",
   "execution_count": 5,
   "id": "80b99903",
   "metadata": {
    "ExecuteTime": {
     "end_time": "2023-07-30T23:34:45.713773Z",
     "start_time": "2023-07-30T23:34:45.661277Z"
    }
   },
   "outputs": [
    {
     "name": "stdout",
     "output_type": "stream",
     "text": [
      "<class 'pandas.core.frame.DataFrame'>\n",
      "RangeIndex: 121 entries, 0 to 120\n",
      "Data columns (total 11 columns):\n",
      " #   Column      Non-Null Count  Dtype  \n",
      "---  ------      --------------  -----  \n",
      " 0   Unnamed: 0  121 non-null    int64  \n",
      " 1   oil         121 non-null    object \n",
      " 2   inter       121 non-null    object \n",
      " 3   oecd        121 non-null    object \n",
      " 4   gdp60       116 non-null    float64\n",
      " 5   gdp85       108 non-null    float64\n",
      " 6   gdpgrowth   117 non-null    float64\n",
      " 7   popgrowth   107 non-null    float64\n",
      " 8   invest      121 non-null    float64\n",
      " 9   school      118 non-null    float64\n",
      " 10  literacy60  103 non-null    float64\n",
      "dtypes: float64(7), int64(1), object(3)\n",
      "memory usage: 10.5+ KB\n"
     ]
    }
   ],
   "source": [
    "economic_growth_data.info()  #displays summary of the Dataframe"
   ]
  },
  {
   "cell_type": "code",
   "execution_count": 6,
   "id": "9d793c12",
   "metadata": {
    "ExecuteTime": {
     "end_time": "2023-07-30T23:34:45.743882Z",
     "start_time": "2023-07-30T23:34:45.724587Z"
    }
   },
   "outputs": [],
   "source": [
    "economic_growth_data.drop(columns=['Unnamed: 0'], inplace=True) #drop unwanted column"
   ]
  },
  {
   "cell_type": "code",
   "execution_count": 7,
   "id": "b3010a0a",
   "metadata": {
    "ExecuteTime": {
     "end_time": "2023-07-30T23:34:45.823664Z",
     "start_time": "2023-07-30T23:34:45.754523Z"
    }
   },
   "outputs": [
    {
     "data": {
      "text/html": [
       "<div>\n",
       "<style scoped>\n",
       "    .dataframe tbody tr th:only-of-type {\n",
       "        vertical-align: middle;\n",
       "    }\n",
       "\n",
       "    .dataframe tbody tr th {\n",
       "        vertical-align: top;\n",
       "    }\n",
       "\n",
       "    .dataframe thead th {\n",
       "        text-align: right;\n",
       "    }\n",
       "</style>\n",
       "<table border=\"1\" class=\"dataframe\">\n",
       "  <thead>\n",
       "    <tr style=\"text-align: right;\">\n",
       "      <th></th>\n",
       "      <th>oil</th>\n",
       "      <th>inter</th>\n",
       "      <th>oecd</th>\n",
       "      <th>gdp60</th>\n",
       "      <th>gdp85</th>\n",
       "      <th>gdpgrowth</th>\n",
       "      <th>popgrowth</th>\n",
       "      <th>invest</th>\n",
       "      <th>school</th>\n",
       "      <th>literacy60</th>\n",
       "    </tr>\n",
       "  </thead>\n",
       "  <tbody>\n",
       "    <tr>\n",
       "      <th>0</th>\n",
       "      <td>no</td>\n",
       "      <td>yes</td>\n",
       "      <td>no</td>\n",
       "      <td>2485.0</td>\n",
       "      <td>4371.0</td>\n",
       "      <td>4.8</td>\n",
       "      <td>2.6</td>\n",
       "      <td>24.1</td>\n",
       "      <td>4.5</td>\n",
       "      <td>10.0</td>\n",
       "    </tr>\n",
       "    <tr>\n",
       "      <th>1</th>\n",
       "      <td>no</td>\n",
       "      <td>no</td>\n",
       "      <td>no</td>\n",
       "      <td>1588.0</td>\n",
       "      <td>1171.0</td>\n",
       "      <td>0.8</td>\n",
       "      <td>2.1</td>\n",
       "      <td>5.8</td>\n",
       "      <td>1.8</td>\n",
       "      <td>5.0</td>\n",
       "    </tr>\n",
       "    <tr>\n",
       "      <th>2</th>\n",
       "      <td>no</td>\n",
       "      <td>no</td>\n",
       "      <td>no</td>\n",
       "      <td>1116.0</td>\n",
       "      <td>1071.0</td>\n",
       "      <td>2.2</td>\n",
       "      <td>2.4</td>\n",
       "      <td>10.8</td>\n",
       "      <td>1.8</td>\n",
       "      <td>5.0</td>\n",
       "    </tr>\n",
       "    <tr>\n",
       "      <th>3</th>\n",
       "      <td>no</td>\n",
       "      <td>yes</td>\n",
       "      <td>no</td>\n",
       "      <td>959.0</td>\n",
       "      <td>3671.0</td>\n",
       "      <td>8.6</td>\n",
       "      <td>3.2</td>\n",
       "      <td>28.3</td>\n",
       "      <td>2.9</td>\n",
       "      <td>NaN</td>\n",
       "    </tr>\n",
       "    <tr>\n",
       "      <th>4</th>\n",
       "      <td>no</td>\n",
       "      <td>no</td>\n",
       "      <td>no</td>\n",
       "      <td>529.0</td>\n",
       "      <td>857.0</td>\n",
       "      <td>2.9</td>\n",
       "      <td>0.9</td>\n",
       "      <td>12.7</td>\n",
       "      <td>0.4</td>\n",
       "      <td>2.0</td>\n",
       "    </tr>\n",
       "  </tbody>\n",
       "</table>\n",
       "</div>"
      ],
      "text/plain": [
       "  oil inter oecd   gdp60   gdp85  gdpgrowth  popgrowth  invest  school  \\\n",
       "0  no   yes   no  2485.0  4371.0        4.8        2.6    24.1     4.5   \n",
       "1  no    no   no  1588.0  1171.0        0.8        2.1     5.8     1.8   \n",
       "2  no    no   no  1116.0  1071.0        2.2        2.4    10.8     1.8   \n",
       "3  no   yes   no   959.0  3671.0        8.6        3.2    28.3     2.9   \n",
       "4  no    no   no   529.0   857.0        2.9        0.9    12.7     0.4   \n",
       "\n",
       "   literacy60  \n",
       "0        10.0  \n",
       "1         5.0  \n",
       "2         5.0  \n",
       "3         NaN  \n",
       "4         2.0  "
      ]
     },
     "execution_count": 7,
     "metadata": {},
     "output_type": "execute_result"
    }
   ],
   "source": [
    "economic_growth_data.head()"
   ]
  },
  {
   "cell_type": "code",
   "execution_count": 8,
   "id": "7254030a",
   "metadata": {
    "ExecuteTime": {
     "end_time": "2023-07-30T23:34:45.855908Z",
     "start_time": "2023-07-30T23:34:45.831880Z"
    }
   },
   "outputs": [],
   "source": [
    "economic_growth_data.rename(columns={'inter': 'dataquality'},\n",
    "                            inplace=True,\n",
    "                            errors='raise')  #rename column for better clarity"
   ]
  },
  {
   "cell_type": "code",
   "execution_count": 9,
   "id": "3721c3a4",
   "metadata": {
    "ExecuteTime": {
     "end_time": "2023-07-30T23:34:45.973297Z",
     "start_time": "2023-07-30T23:34:45.914767Z"
    }
   },
   "outputs": [
    {
     "data": {
      "text/html": [
       "<div>\n",
       "<style scoped>\n",
       "    .dataframe tbody tr th:only-of-type {\n",
       "        vertical-align: middle;\n",
       "    }\n",
       "\n",
       "    .dataframe tbody tr th {\n",
       "        vertical-align: top;\n",
       "    }\n",
       "\n",
       "    .dataframe thead th {\n",
       "        text-align: right;\n",
       "    }\n",
       "</style>\n",
       "<table border=\"1\" class=\"dataframe\">\n",
       "  <thead>\n",
       "    <tr style=\"text-align: right;\">\n",
       "      <th></th>\n",
       "      <th>oil</th>\n",
       "      <th>dataquality</th>\n",
       "      <th>oecd</th>\n",
       "      <th>gdp60</th>\n",
       "      <th>gdp85</th>\n",
       "      <th>gdpgrowth</th>\n",
       "      <th>popgrowth</th>\n",
       "      <th>invest</th>\n",
       "      <th>school</th>\n",
       "      <th>literacy60</th>\n",
       "    </tr>\n",
       "  </thead>\n",
       "  <tbody>\n",
       "    <tr>\n",
       "      <th>0</th>\n",
       "      <td>no</td>\n",
       "      <td>yes</td>\n",
       "      <td>no</td>\n",
       "      <td>2485.0</td>\n",
       "      <td>4371.0</td>\n",
       "      <td>4.8</td>\n",
       "      <td>2.6</td>\n",
       "      <td>24.1</td>\n",
       "      <td>4.5</td>\n",
       "      <td>10.0</td>\n",
       "    </tr>\n",
       "    <tr>\n",
       "      <th>1</th>\n",
       "      <td>no</td>\n",
       "      <td>no</td>\n",
       "      <td>no</td>\n",
       "      <td>1588.0</td>\n",
       "      <td>1171.0</td>\n",
       "      <td>0.8</td>\n",
       "      <td>2.1</td>\n",
       "      <td>5.8</td>\n",
       "      <td>1.8</td>\n",
       "      <td>5.0</td>\n",
       "    </tr>\n",
       "    <tr>\n",
       "      <th>2</th>\n",
       "      <td>no</td>\n",
       "      <td>no</td>\n",
       "      <td>no</td>\n",
       "      <td>1116.0</td>\n",
       "      <td>1071.0</td>\n",
       "      <td>2.2</td>\n",
       "      <td>2.4</td>\n",
       "      <td>10.8</td>\n",
       "      <td>1.8</td>\n",
       "      <td>5.0</td>\n",
       "    </tr>\n",
       "    <tr>\n",
       "      <th>3</th>\n",
       "      <td>no</td>\n",
       "      <td>yes</td>\n",
       "      <td>no</td>\n",
       "      <td>959.0</td>\n",
       "      <td>3671.0</td>\n",
       "      <td>8.6</td>\n",
       "      <td>3.2</td>\n",
       "      <td>28.3</td>\n",
       "      <td>2.9</td>\n",
       "      <td>NaN</td>\n",
       "    </tr>\n",
       "    <tr>\n",
       "      <th>4</th>\n",
       "      <td>no</td>\n",
       "      <td>no</td>\n",
       "      <td>no</td>\n",
       "      <td>529.0</td>\n",
       "      <td>857.0</td>\n",
       "      <td>2.9</td>\n",
       "      <td>0.9</td>\n",
       "      <td>12.7</td>\n",
       "      <td>0.4</td>\n",
       "      <td>2.0</td>\n",
       "    </tr>\n",
       "  </tbody>\n",
       "</table>\n",
       "</div>"
      ],
      "text/plain": [
       "  oil dataquality oecd   gdp60   gdp85  gdpgrowth  popgrowth  invest  school  \\\n",
       "0  no         yes   no  2485.0  4371.0        4.8        2.6    24.1     4.5   \n",
       "1  no          no   no  1588.0  1171.0        0.8        2.1     5.8     1.8   \n",
       "2  no          no   no  1116.0  1071.0        2.2        2.4    10.8     1.8   \n",
       "3  no         yes   no   959.0  3671.0        8.6        3.2    28.3     2.9   \n",
       "4  no          no   no   529.0   857.0        2.9        0.9    12.7     0.4   \n",
       "\n",
       "   literacy60  \n",
       "0        10.0  \n",
       "1         5.0  \n",
       "2         5.0  \n",
       "3         NaN  \n",
       "4         2.0  "
      ]
     },
     "execution_count": 9,
     "metadata": {},
     "output_type": "execute_result"
    }
   ],
   "source": [
    "economic_growth_data.head()"
   ]
  },
  {
   "cell_type": "code",
   "execution_count": 10,
   "id": "4d73cf02",
   "metadata": {
    "ExecuteTime": {
     "end_time": "2023-07-30T23:34:46.000788Z",
     "start_time": "2023-07-30T23:34:45.980033Z"
    }
   },
   "outputs": [
    {
     "data": {
      "text/plain": [
       "oil             0\n",
       "dataquality     0\n",
       "oecd            0\n",
       "gdp60           5\n",
       "gdp85          13\n",
       "gdpgrowth       4\n",
       "popgrowth      14\n",
       "invest          0\n",
       "school          3\n",
       "literacy60     18\n",
       "dtype: int64"
      ]
     },
     "execution_count": 10,
     "metadata": {},
     "output_type": "execute_result"
    }
   ],
   "source": [
    "economic_growth_data.isna().sum() #checking for null data"
   ]
  },
  {
   "cell_type": "code",
   "execution_count": 11,
   "id": "21a606c7",
   "metadata": {
    "ExecuteTime": {
     "end_time": "2023-07-30T23:34:46.145425Z",
     "start_time": "2023-07-30T23:34:46.004775Z"
    }
   },
   "outputs": [
    {
     "data": {
      "text/plain": [
       "21"
      ]
     },
     "execution_count": 11,
     "metadata": {},
     "output_type": "execute_result"
    }
   ],
   "source": [
    "economic_growth_data.isna().any(axis=1).sum() #checking how many rows contain null values"
   ]
  },
  {
   "cell_type": "code",
   "execution_count": 12,
   "id": "7b571de5",
   "metadata": {
    "ExecuteTime": {
     "end_time": "2023-07-30T23:34:46.193499Z",
     "start_time": "2023-07-30T23:34:46.153560Z"
    },
    "run_control": {
     "marked": false
    }
   },
   "outputs": [],
   "source": [
    "#Filling null values with the mean of the dataset\n",
    "\n",
    "values = {\n",
    "    \"gdp60\": economic_growth_data.gdp60.mean(),\n",
    "    \"gdp85\": economic_growth_data.gdp85.mean(),\n",
    "    \"popgrowth\": economic_growth_data.popgrowth.mean(),\n",
    "    \"gdpgrowth\": economic_growth_data.gdpgrowth.mean(),\n",
    "    \"popgrowth\": economic_growth_data.popgrowth.mean(),\n",
    "    \"school\": economic_growth_data.school.mean(),\n",
    "    \"literacy60\": economic_growth_data.literacy60.mean()\n",
    "    \n",
    "}\n",
    "\n",
    "economic_growth_data2 = economic_growth_data.fillna(value=values)"
   ]
  },
  {
   "cell_type": "code",
   "execution_count": 13,
   "id": "05e994c3",
   "metadata": {
    "ExecuteTime": {
     "end_time": "2023-07-30T23:34:46.245579Z",
     "start_time": "2023-07-30T23:34:46.206656Z"
    },
    "scrolled": false
   },
   "outputs": [
    {
     "data": {
      "text/plain": [
       "oil            0\n",
       "dataquality    0\n",
       "oecd           0\n",
       "gdp60          0\n",
       "gdp85          0\n",
       "gdpgrowth      0\n",
       "popgrowth      0\n",
       "invest         0\n",
       "school         0\n",
       "literacy60     0\n",
       "dtype: int64"
      ]
     },
     "execution_count": 13,
     "metadata": {},
     "output_type": "execute_result"
    }
   ],
   "source": [
    "economic_growth_data2.isna().sum()"
   ]
  },
  {
   "cell_type": "markdown",
   "id": "8e16ab61",
   "metadata": {
    "ExecuteTime": {
     "end_time": "2023-07-30T18:50:53.067389Z",
     "start_time": "2023-07-30T18:50:53.055188Z"
    }
   },
   "source": [
    "### Correlation and Regression Analysis"
   ]
  },
  {
   "cell_type": "code",
   "execution_count": 14,
   "id": "10c6ba4f",
   "metadata": {
    "ExecuteTime": {
     "end_time": "2023-07-30T23:34:46.328027Z",
     "start_time": "2023-07-30T23:34:46.256669Z"
    },
    "scrolled": true
   },
   "outputs": [
    {
     "data": {
      "text/html": [
       "<div>\n",
       "<style scoped>\n",
       "    .dataframe tbody tr th:only-of-type {\n",
       "        vertical-align: middle;\n",
       "    }\n",
       "\n",
       "    .dataframe tbody tr th {\n",
       "        vertical-align: top;\n",
       "    }\n",
       "\n",
       "    .dataframe thead th {\n",
       "        text-align: right;\n",
       "    }\n",
       "</style>\n",
       "<table border=\"1\" class=\"dataframe\">\n",
       "  <thead>\n",
       "    <tr style=\"text-align: right;\">\n",
       "      <th></th>\n",
       "      <th>gdp60</th>\n",
       "      <th>gdp85</th>\n",
       "      <th>gdpgrowth</th>\n",
       "      <th>popgrowth</th>\n",
       "      <th>invest</th>\n",
       "      <th>school</th>\n",
       "      <th>literacy60</th>\n",
       "    </tr>\n",
       "  </thead>\n",
       "  <tbody>\n",
       "    <tr>\n",
       "      <th>gdp60</th>\n",
       "      <td>1.000000</td>\n",
       "      <td>0.630505</td>\n",
       "      <td>-0.122174</td>\n",
       "      <td>0.291304</td>\n",
       "      <td>0.091031</td>\n",
       "      <td>0.337358</td>\n",
       "      <td>0.257476</td>\n",
       "    </tr>\n",
       "    <tr>\n",
       "      <th>gdp85</th>\n",
       "      <td>0.630505</td>\n",
       "      <td>1.000000</td>\n",
       "      <td>0.139063</td>\n",
       "      <td>-0.222036</td>\n",
       "      <td>0.580661</td>\n",
       "      <td>0.697297</td>\n",
       "      <td>0.729110</td>\n",
       "    </tr>\n",
       "    <tr>\n",
       "      <th>gdpgrowth</th>\n",
       "      <td>-0.122174</td>\n",
       "      <td>0.139063</td>\n",
       "      <td>1.000000</td>\n",
       "      <td>0.242443</td>\n",
       "      <td>0.350510</td>\n",
       "      <td>0.197995</td>\n",
       "      <td>0.160969</td>\n",
       "    </tr>\n",
       "    <tr>\n",
       "      <th>popgrowth</th>\n",
       "      <td>0.291304</td>\n",
       "      <td>-0.222036</td>\n",
       "      <td>0.242443</td>\n",
       "      <td>1.000000</td>\n",
       "      <td>-0.331930</td>\n",
       "      <td>-0.212766</td>\n",
       "      <td>-0.414744</td>\n",
       "    </tr>\n",
       "    <tr>\n",
       "      <th>invest</th>\n",
       "      <td>0.091031</td>\n",
       "      <td>0.580661</td>\n",
       "      <td>0.350510</td>\n",
       "      <td>-0.331930</td>\n",
       "      <td>1.000000</td>\n",
       "      <td>0.622444</td>\n",
       "      <td>0.639264</td>\n",
       "    </tr>\n",
       "    <tr>\n",
       "      <th>school</th>\n",
       "      <td>0.337358</td>\n",
       "      <td>0.697297</td>\n",
       "      <td>0.197995</td>\n",
       "      <td>-0.212766</td>\n",
       "      <td>0.622444</td>\n",
       "      <td>1.000000</td>\n",
       "      <td>0.818405</td>\n",
       "    </tr>\n",
       "    <tr>\n",
       "      <th>literacy60</th>\n",
       "      <td>0.257476</td>\n",
       "      <td>0.729110</td>\n",
       "      <td>0.160969</td>\n",
       "      <td>-0.414744</td>\n",
       "      <td>0.639264</td>\n",
       "      <td>0.818405</td>\n",
       "      <td>1.000000</td>\n",
       "    </tr>\n",
       "  </tbody>\n",
       "</table>\n",
       "</div>"
      ],
      "text/plain": [
       "               gdp60     gdp85  gdpgrowth  popgrowth    invest    school  \\\n",
       "gdp60       1.000000  0.630505  -0.122174   0.291304  0.091031  0.337358   \n",
       "gdp85       0.630505  1.000000   0.139063  -0.222036  0.580661  0.697297   \n",
       "gdpgrowth  -0.122174  0.139063   1.000000   0.242443  0.350510  0.197995   \n",
       "popgrowth   0.291304 -0.222036   0.242443   1.000000 -0.331930 -0.212766   \n",
       "invest      0.091031  0.580661   0.350510  -0.331930  1.000000  0.622444   \n",
       "school      0.337358  0.697297   0.197995  -0.212766  0.622444  1.000000   \n",
       "literacy60  0.257476  0.729110   0.160969  -0.414744  0.639264  0.818405   \n",
       "\n",
       "            literacy60  \n",
       "gdp60         0.257476  \n",
       "gdp85         0.729110  \n",
       "gdpgrowth     0.160969  \n",
       "popgrowth    -0.414744  \n",
       "invest        0.639264  \n",
       "school        0.818405  \n",
       "literacy60    1.000000  "
      ]
     },
     "execution_count": 14,
     "metadata": {},
     "output_type": "execute_result"
    }
   ],
   "source": [
    "pearsoncorr = economic_growth_data.corr(method='pearson')\n",
    "pearsoncorr"
   ]
  },
  {
   "cell_type": "code",
   "execution_count": 15,
   "id": "9e8758ad",
   "metadata": {
    "ExecuteTime": {
     "end_time": "2023-07-30T23:34:47.578430Z",
     "start_time": "2023-07-30T23:34:46.336989Z"
    }
   },
   "outputs": [
    {
     "data": {
      "text/plain": [
       "<AxesSubplot:>"
      ]
     },
     "execution_count": 15,
     "metadata": {},
     "output_type": "execute_result"
    },
    {
     "data": {
      "image/png": "[encoded data removed]",
      "text/plain": [
       "<Figure size 640x480 with 2 Axes>"
      ]
     },
     "metadata": {},
     "output_type": "display_data"
    }
   ],
   "source": [
    "#heatmap for better pictorial representation\n",
    "\n",
    "sns.heatmap(pearsoncorr,\n",
    "            xticklabels=pearsoncorr.columns,\n",
    "            yticklabels=pearsoncorr.columns,\n",
    "            cmap='RdBu_r',\n",
    "            annot=True,\n",
    "            linewidth=0.5)"
   ]
  },
  {
   "cell_type": "markdown",
   "id": "dd66eaef",
   "metadata": {},
   "source": [
    "A co-efficient close to 1 indicates there is a very strong positive correlation between the two variables. In the above table for instance, the maroon indicates very strong correlations. The diagonal line signifies the correlation of the variables to themselves — which would obviously be 1.\n",
    "\n",
    "Looking at the above map, we can infer that:\n",
    "\n",
    "Between 1960 and 1985, growth rate of working-age population(popgrowth), average ratio of investment to GDP(invest), fraction of the population able to read and write in 1960(literacy60); are positively correlated to GDP growth, though not strongly.\n",
    "\n",
    "The average fraction of working-age population enrolled in secondary school from 1960 to 1985(school), is however strongly correlated to the fraction of population able to read and write in 1960(literacy1960) at 0.82, which is expected. A high population of enrolled individuals in schools is expected to lead to a high literacy rate and vice versa, ceteris paribus. The literacy rate is then strongly correlated to the per capita GDP in 1985 at 0.73"
   ]
  },
  {
   "cell_type": "code",
   "execution_count": 16,
   "id": "56c337e5",
   "metadata": {
    "ExecuteTime": {
     "end_time": "2023-07-30T23:34:47.594383Z",
     "start_time": "2023-07-30T23:34:47.583560Z"
    },
    "run_control": {
     "marked": true
    }
   },
   "outputs": [],
   "source": [
    "economic_growth_data2['intercept'] = 1 # This will set the intercept column to have a constant value of 1 for all rows.\n",
    "\n",
    "# Define the independent variables (including the intercept column) and the dependent variable\n",
    "\n",
    "Y = economic_growth_data2['gdpgrowth']\n",
    "X = economic_growth_data2[['intercept', 'popgrowth', 'invest', 'school', 'literacy60']]"
   ]
  },
  {
   "cell_type": "code",
   "execution_count": 17,
   "id": "bac3421b",
   "metadata": {
    "ExecuteTime": {
     "end_time": "2023-07-30T23:34:47.637208Z",
     "start_time": "2023-07-30T23:34:47.599242Z"
    }
   },
   "outputs": [
    {
     "name": "stdout",
     "output_type": "stream",
     "text": [
      "                            OLS Regression Results                            \n",
      "==============================================================================\n",
      "Dep. Variable:              gdpgrowth   R-squared:                       0.246\n",
      "Model:                            OLS   Adj. R-squared:                  0.220\n",
      "Method:                 Least Squares   F-statistic:                     9.449\n",
      "Date:                Mon, 31 Jul 2023   Prob (F-statistic):           1.20e-06\n",
      "Time:                        00:34:47   Log-Likelihood:                -229.20\n",
      "No. Observations:                 121   AIC:                             468.4\n",
      "Df Residuals:                     116   BIC:                             482.4\n",
      "Df Model:                           4                                         \n",
      "Covariance Type:            nonrobust                                         \n",
      "==============================================================================\n",
      "                 coef    std err          t      P>|t|      [0.025      0.975]\n",
      "------------------------------------------------------------------------------\n",
      "intercept      0.3324      0.653      0.509      0.612      -0.961       1.626\n",
      "popgrowth      0.7757      0.180      4.311      0.000       0.419       1.132\n",
      "invest         0.1103      0.025      4.355      0.000       0.060       0.160\n",
      "school        -0.0524      0.070     -0.747      0.457      -0.191       0.087\n",
      "literacy60     0.0058      0.008      0.765      0.446      -0.009       0.021\n",
      "==============================================================================\n",
      "Omnibus:                        0.610   Durbin-Watson:                   2.104\n",
      "Prob(Omnibus):                  0.737   Jarque-Bera (JB):                0.250\n",
      "Skew:                           0.038   Prob(JB):                        0.882\n",
      "Kurtosis:                       3.210   Cond. No.                         274.\n",
      "==============================================================================\n",
      "\n",
      "Notes:\n",
      "[1] Standard Errors assume that the covariance matrix of the errors is correctly specified.\n"
     ]
    }
   ],
   "source": [
    "model = sm.OLS(Y, X)\n",
    "results = model.fit()\n",
    "print(results.summary())"
   ]
  },
  {
   "cell_type": "markdown",
   "id": "24adb9a8",
   "metadata": {
    "ExecuteTime": {
     "end_time": "2023-07-30T19:02:30.014788Z",
     "start_time": "2023-07-30T19:02:30.003517Z"
    }
   },
   "source": [
    "#Using the Ordinary Least Squares method of regression analysis, the R-squared which measures how much of the independent variable is explained by changes in our dependent variables, is 0.246. This would mean our model explains 24.6% of the change in our economic growth (gdpgrowth) variable"
   ]
  },
  {
   "cell_type": "markdown",
   "id": "6699e5ab",
   "metadata": {},
   "source": [
    "Another statistical measure we would be considering is the p-value. If the p-value is below 0.05, we would reject the null hypothesis and conclude that the independent variable has a statistically significant effect on the dependent variable."
   ]
  },
  {
   "cell_type": "code",
   "execution_count": 18,
   "id": "e8e72ac1",
   "metadata": {
    "ExecuteTime": {
     "end_time": "2023-07-30T23:34:47.661380Z",
     "start_time": "2023-07-30T23:34:47.638435Z"
    }
   },
   "outputs": [
    {
     "name": "stdout",
     "output_type": "stream",
     "text": [
      "The average fraction of working age population in secondary school has no statistically significant effect on the dependent variable\n",
      "Fraction of the population over 15 years old that is able to read and write has no statistically significant effect on the dependent variable\n"
     ]
    }
   ],
   "source": [
    "alpha = 0.05\n",
    "\n",
    "p1 = 0.457  #p-value for school\n",
    "p2 = 0.446  #p-value for literacy60\n",
    "\n",
    "p1\n",
    "\n",
    "if p1 < alpha:\n",
    "    print(\n",
    "        'The average fraction of working age population in secondary school has a statistically significant effect on the dependent variable'\n",
    "    )\n",
    "else:\n",
    "    print(\n",
    "        'The average fraction of working age population in secondary school has no statistically significant effect on the dependent variable'\n",
    "    )\n",
    "if p2 < alpha:\n",
    "    print(\n",
    "        'Fraction of the population over 15 years old that is able to read and write, has a statistically significant effect on the dependent variable'\n",
    "    )\n",
    "else:\n",
    "    print(\n",
    "        'Fraction of the population over 15 years old that is able to read and write has no statistically significant effect on the dependent variable'\n",
    "    )"
   ]
  },
  {
   "cell_type": "markdown",
   "id": "f3079914",
   "metadata": {},
   "source": [
    "P>|t| uses the t statistic to produce the p value, a measurement of how likely your coefficient is measured through our model by chance. The p value of 0.457 and 0.446 for school and literacy rate respectively is saying there is a 45.7% and 44.6% chance that both variables have no affect on the dependent variable, gdpgrowth, and our results are produced by chance."
   ]
  },
  {
   "cell_type": "markdown",
   "id": "031056a0",
   "metadata": {
    "ExecuteTime": {
     "end_time": "2023-07-30T18:58:01.506359Z",
     "start_time": "2023-07-30T18:58:01.495388Z"
    }
   },
   "source": [
    "### Visualizations"
   ]
  },
  {
   "cell_type": "code",
   "execution_count": 19,
   "id": "15db49a5",
   "metadata": {
    "ExecuteTime": {
     "end_time": "2023-07-30T23:34:48.101186Z",
     "start_time": "2023-07-30T23:34:47.669723Z"
    },
    "scrolled": true
   },
   "outputs": [
    {
     "data": {
      "text/plain": [
       "<seaborn.axisgrid.FacetGrid at 0x1c76c655460>"
      ]
     },
     "execution_count": 19,
     "metadata": {},
     "output_type": "execute_result"
    },
    {
     "data": {
      "image/png": "[encoded data removed]",
      "text/plain": [
       "<Figure size 500x500 with 1 Axes>"
      ]
     },
     "metadata": {},
     "output_type": "display_data"
    }
   ],
   "source": [
    "sns.catplot(data=economic_growth_data2,\n",
    "            x=\"oil\",\n",
    "            y=\"gdpgrowth\",\n",
    "            kind=\"box\",\n",
    "            meanline=True,\n",
    "            showmeans=True)"
   ]
  },
  {
   "cell_type": "markdown",
   "id": "b81d8008",
   "metadata": {},
   "source": [
    "The boxplot shows the three quartile values of the distribution along with extreme values. The “whiskers” extend to points that lie within 1.5 IQRs of the lower and upper quartile, and then observations that fall outside this range are displayed independently. This means that each value in the boxplot corresponds to an actual observation in the data."
   ]
  },
  {
   "cell_type": "code",
   "execution_count": 20,
   "id": "ad1f8d91",
   "metadata": {
    "ExecuteTime": {
     "end_time": "2023-07-30T23:34:48.571548Z",
     "start_time": "2023-07-30T23:34:48.102220Z"
    },
    "scrolled": true
   },
   "outputs": [
    {
     "data": {
      "text/plain": [
       "<seaborn.axisgrid.FacetGrid at 0x1c76ec34940>"
      ]
     },
     "execution_count": 20,
     "metadata": {},
     "output_type": "execute_result"
    },
    {
     "data": {
      "image/png": "[encoded data removed]",
      "text/plain": [
       "<Figure size 500x500 with 1 Axes>"
      ]
     },
     "metadata": {},
     "output_type": "display_data"
    }
   ],
   "source": [
    "sns.catplot(data=economic_growth_data2,\n",
    "            x=\"dataquality\",\n",
    "            y=\"gdpgrowth\",\n",
    "            kind=\"box\",\n",
    "            meanline=True,\n",
    "            showmeans=True)"
   ]
  },
  {
   "cell_type": "code",
   "execution_count": 21,
   "id": "c5c7eace",
   "metadata": {
    "ExecuteTime": {
     "end_time": "2023-07-30T23:34:49.053440Z",
     "start_time": "2023-07-30T23:34:48.581440Z"
    }
   },
   "outputs": [
    {
     "data": {
      "text/plain": [
       "<seaborn.axisgrid.FacetGrid at 0x1c76e8978b0>"
      ]
     },
     "execution_count": 21,
     "metadata": {},
     "output_type": "execute_result"
    },
    {
     "data": {
      "image/png": "[encoded data removed]",
      "text/plain": [
       "<Figure size 500x500 with 1 Axes>"
      ]
     },
     "metadata": {},
     "output_type": "display_data"
    }
   ],
   "source": [
    "sns.catplot(data=economic_growth_data2,\n",
    "            x=\"oecd\",\n",
    "            y=\"gdpgrowth\",\n",
    "            kind=\"box\",\n",
    "            meanline=True,\n",
    "            showmeans=True)"
   ]
  },
  {
   "cell_type": "markdown",
   "id": "f12a90a6",
   "metadata": {},
   "source": [
    "#References"
   ]
  },
  {
   "cell_type": "markdown",
   "id": "a1d3615b",
   "metadata": {},
   "source": [
    "Waskom, M. (2021). Seaborn: statistical data visualization (Version 0.11.2) [Software]. Available from https://seaborn.pydata.org/"
   ]
  },
  {
   "cell_type": "markdown",
   "id": "02142cf1",
   "metadata": {},
   "source": [
    "McAleer, T. (2020, Dec 5).Interpreting Linear Regression Through statsmodels. Medium. https://medium.com/swlh/interpreting-linear-regression-through-statsmodels-summary-4796d359035a"
   ]
  },
  {
   "cell_type": "markdown",
   "id": "0bf3700e",
   "metadata": {},
   "source": [
    "Magiya, J. (2019, April 14). Pearson Coefficient of Correlation with Python. Medium. https://levelup.gitconnected.com/pearson-coefficient-of-correlation-using-pandas-ca68ce678c04"
   ]
  },
  {
   "cell_type": "markdown",
   "id": "07e74737",
   "metadata": {},
   "source": [
    "Seabold, S., & Perktold, J. (2010). Statsmodels: Econometric and statistical modeling with python. Proceedings of the 9th Python in Science Conference, 57, 61-66."
   ]
  },
  {
   "cell_type": "markdown",
   "id": "1dea84ec",
   "metadata": {},
   "source": [
    "Hunter, J.D. (2007). Matplotlib: A 2D Graphics Environment in Computing in Science & Engineering, 9(3), pp. 90-95"
   ]
  }
 ],
 "metadata": {
  "kernelspec": {
   "display_name": "Python 3 (ipykernel)",
   "language": "python",
   "name": "python3"
  },
  "language_info": {
   "codemirror_mode": {
    "name": "ipython",
    "version": 3
   },
   "file_extension": ".py",
   "mimetype": "text/x-python",
   "name": "python",
   "nbconvert_exporter": "python",
   "pygments_lexer": "ipython3",
   "version": "3.9.13"
  }
 },
 "nbformat": 4,
 "nbformat_minor": 5
}
